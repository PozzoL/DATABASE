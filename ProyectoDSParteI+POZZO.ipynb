{
  "nbformat": 4,
  "nbformat_minor": 0,
  "metadata": {
    "colab": {
      "provenance": []
    },
    "kernelspec": {
      "name": "python3",
      "display_name": "Python 3"
    },
    "language_info": {
      "name": "python"
    }
  },
  "cells": [
    {
      "cell_type": "markdown",
      "source": [
        "## ACTIVIDAD I. Bases de Python - Elección de Datasets potenciales. POZZO, LUCRECIA\n",
        "Los datos se encuentran cargados en github en el siguiente repositorio https://github.com/PozzoL/DATABASE\n"
      ],
      "metadata": {
        "id": "BqTCSmXgRmPI"
      }
    },
    {
      "cell_type": "markdown",
      "source": [
        "## DATASET I. JUEGOS DE AJEDREZ"
      ],
      "metadata": {
        "id": "kVMHmovDR8WZ"
      }
    },
    {
      "cell_type": "code",
      "source": [
        "import numpy as np\n",
        "import pandas as pd\n",
        "import matplotlib.pyplot as plt\n",
        "import seaborn as sns\n",
        "#al trabajar en google colab subir los archivos al entorno y luego leerlos\n",
        "df = pd.read_csv('/content/chessgames.csv')\n",
        "print(\"Dimensiones del dataset (filas, columnas):\", df.shape) #devuelve el número de filas y columnas demostrando que el df cumple con la consigna"
      ],
      "metadata": {
        "colab": {
          "base_uri": "https://localhost:8080/"
        },
        "id": "D6zJGZe2xLsc",
        "outputId": "461a7e9c-d86e-4cd6-c60d-0166d47e561a"
      },
      "execution_count": 4,
      "outputs": [
        {
          "output_type": "stream",
          "name": "stdout",
          "text": [
            "Dimensiones del dataset (filas, columnas): (20058, 16)\n"
          ]
        }
      ]
    },
    {
      "cell_type": "code",
      "source": [
        "print(df.head())"
      ],
      "metadata": {
        "colab": {
          "base_uri": "https://localhost:8080/"
        },
        "id": "nHXFbCP8xPf2",
        "outputId": "3a9a4a72-cabd-499f-ff5b-3c707ade2916"
      },
      "execution_count": null,
      "outputs": [
        {
          "output_type": "stream",
          "name": "stdout",
          "text": [
            "         id  rated    created_at  last_move_at  turns victory_status winner  \\\n",
            "0  TZJHLljE  False  1.504210e+12  1.504210e+12     13      outoftime  white   \n",
            "1  l1NXvwaE   True  1.504130e+12  1.504130e+12     16         resign  black   \n",
            "2  mIICvQHh   True  1.504130e+12  1.504130e+12     61           mate  white   \n",
            "3  kWKvrqYL   True  1.504110e+12  1.504110e+12     61           mate  white   \n",
            "4  9tXo1AUZ   True  1.504030e+12  1.504030e+12     95           mate  white   \n",
            "\n",
            "  increment_code       white_id  white_rating      black_id  black_rating  \\\n",
            "0           15+2       bourgris          1500          a-00          1191   \n",
            "1           5+10           a-00          1322     skinnerua          1261   \n",
            "2           5+10         ischia          1496          a-00          1500   \n",
            "3           20+0  daniamurashov          1439  adivanov2009          1454   \n",
            "4           30+3      nik221107          1523  adivanov2009          1469   \n",
            "\n",
            "                                               moves opening_eco  \\\n",
            "0  d4 d5 c4 c6 cxd5 e6 dxe6 fxe6 Nf3 Bb4+ Nc3 Ba5...         D10   \n",
            "1  d4 Nc6 e4 e5 f4 f6 dxe5 fxe5 fxe5 Nxe5 Qd4 Nc6...         B00   \n",
            "2  e4 e5 d3 d6 Be3 c6 Be2 b5 Nd2 a5 a4 c5 axb5 Nc...         C20   \n",
            "3  d4 d5 Nf3 Bf5 Nc3 Nf6 Bf4 Ng4 e3 Nc6 Be2 Qd7 O...         D02   \n",
            "4  e4 e5 Nf3 d6 d4 Nc6 d5 Nb4 a3 Na6 Nc3 Be7 b4 N...         C41   \n",
            "\n",
            "                             opening_name  opening_ply  \n",
            "0        Slav Defense: Exchange Variation            5  \n",
            "1  Nimzowitsch Defense: Kennedy Variation            4  \n",
            "2   King's Pawn Game: Leonardis Variation            3  \n",
            "3  Queen's Pawn Game: Zukertort Variation            3  \n",
            "4                        Philidor Defense            5  \n"
          ]
        }
      ]
    },
    {
      "cell_type": "code",
      "source": [
        "print(df.info())"
      ],
      "metadata": {
        "colab": {
          "base_uri": "https://localhost:8080/"
        },
        "id": "kZVIFZaB25wV",
        "outputId": "9c42d43d-8a4d-45c2-ea80-f89f018300cf"
      },
      "execution_count": 5,
      "outputs": [
        {
          "output_type": "stream",
          "name": "stdout",
          "text": [
            "<class 'pandas.core.frame.DataFrame'>\n",
            "RangeIndex: 20058 entries, 0 to 20057\n",
            "Data columns (total 16 columns):\n",
            " #   Column          Non-Null Count  Dtype  \n",
            "---  ------          --------------  -----  \n",
            " 0   id              20058 non-null  object \n",
            " 1   rated           20058 non-null  bool   \n",
            " 2   created_at      20058 non-null  float64\n",
            " 3   last_move_at    20058 non-null  float64\n",
            " 4   turns           20058 non-null  int64  \n",
            " 5   victory_status  20058 non-null  object \n",
            " 6   winner          20058 non-null  object \n",
            " 7   increment_code  20058 non-null  object \n",
            " 8   white_id        20058 non-null  object \n",
            " 9   white_rating    20058 non-null  int64  \n",
            " 10  black_id        20058 non-null  object \n",
            " 11  black_rating    20058 non-null  int64  \n",
            " 12  moves           20058 non-null  object \n",
            " 13  opening_eco     20058 non-null  object \n",
            " 14  opening_name    20058 non-null  object \n",
            " 15  opening_ply     20058 non-null  int64  \n",
            "dtypes: bool(1), float64(2), int64(4), object(9)\n",
            "memory usage: 2.3+ MB\n",
            "None\n"
          ]
        }
      ]
    },
    {
      "cell_type": "code",
      "source": [
        "print(df.describe())"
      ],
      "metadata": {
        "colab": {
          "base_uri": "https://localhost:8080/"
        },
        "id": "R4K3yYuR3DB7",
        "outputId": "8e227cc0-00de-4ead-fce0-0e1edbcbc492"
      },
      "execution_count": null,
      "outputs": [
        {
          "output_type": "stream",
          "name": "stdout",
          "text": [
            "         created_at  last_move_at         turns  white_rating  black_rating  \\\n",
            "count  2.005800e+04  2.005800e+04  20058.000000  20058.000000  20058.000000   \n",
            "mean   1.483617e+12  1.483618e+12     60.465999   1596.631868   1588.831987   \n",
            "std    2.850151e+10  2.850140e+10     33.570585    291.253376    291.036126   \n",
            "min    1.376772e+12  1.376772e+12      1.000000    784.000000    789.000000   \n",
            "25%    1.477548e+12  1.477548e+12     37.000000   1398.000000   1391.000000   \n",
            "50%    1.496010e+12  1.496010e+12     55.000000   1567.000000   1562.000000   \n",
            "75%    1.503170e+12  1.503170e+12     79.000000   1793.000000   1784.000000   \n",
            "max    1.504493e+12  1.504494e+12    349.000000   2700.000000   2723.000000   \n",
            "\n",
            "        opening_ply  \n",
            "count  20058.000000  \n",
            "mean       4.816981  \n",
            "std        2.797152  \n",
            "min        1.000000  \n",
            "25%        3.000000  \n",
            "50%        4.000000  \n",
            "75%        6.000000  \n",
            "max       28.000000  \n"
          ]
        }
      ]
    },
    {
      "cell_type": "code",
      "source": [
        "print(df.isna()) # corroboramos que no existen valores vacios en el df"
      ],
      "metadata": {
        "colab": {
          "base_uri": "https://localhost:8080/"
        },
        "id": "T3L_bc-w2rMu",
        "outputId": "ca3c7a04-8a38-4bf6-cb13-fcbc6c0dafe7"
      },
      "execution_count": null,
      "outputs": [
        {
          "output_type": "stream",
          "name": "stdout",
          "text": [
            "          id  rated  created_at  last_move_at  turns  victory_status  winner  \\\n",
            "0      False  False       False         False  False           False   False   \n",
            "1      False  False       False         False  False           False   False   \n",
            "2      False  False       False         False  False           False   False   \n",
            "3      False  False       False         False  False           False   False   \n",
            "4      False  False       False         False  False           False   False   \n",
            "...      ...    ...         ...           ...    ...             ...     ...   \n",
            "20053  False  False       False         False  False           False   False   \n",
            "20054  False  False       False         False  False           False   False   \n",
            "20055  False  False       False         False  False           False   False   \n",
            "20056  False  False       False         False  False           False   False   \n",
            "20057  False  False       False         False  False           False   False   \n",
            "\n",
            "       increment_code  white_id  white_rating  black_id  black_rating  moves  \\\n",
            "0               False     False         False     False         False  False   \n",
            "1               False     False         False     False         False  False   \n",
            "2               False     False         False     False         False  False   \n",
            "3               False     False         False     False         False  False   \n",
            "4               False     False         False     False         False  False   \n",
            "...               ...       ...           ...       ...           ...    ...   \n",
            "20053           False     False         False     False         False  False   \n",
            "20054           False     False         False     False         False  False   \n",
            "20055           False     False         False     False         False  False   \n",
            "20056           False     False         False     False         False  False   \n",
            "20057           False     False         False     False         False  False   \n",
            "\n",
            "       opening_eco  opening_name  opening_ply  \n",
            "0            False         False        False  \n",
            "1            False         False        False  \n",
            "2            False         False        False  \n",
            "3            False         False        False  \n",
            "4            False         False        False  \n",
            "...            ...           ...          ...  \n",
            "20053        False         False        False  \n",
            "20054        False         False        False  \n",
            "20055        False         False        False  \n",
            "20056        False         False        False  \n",
            "20057        False         False        False  \n",
            "\n",
            "[20058 rows x 16 columns]\n"
          ]
        }
      ]
    },
    {
      "cell_type": "code",
      "source": [
        "# Histograma de la variable turns\n",
        "plt.figure(figsize=(8,4))\n",
        "sns.histplot(df['turns'], kde=True, color='red')\n",
        "plt.title(\"Distribución de 'turns'\")\n",
        "plt.xlabel(\"Turns\")\n",
        "plt.ylabel(\"Frecuencia\")\n",
        "plt.show()\n",
        "\n",
        "# Estadísticas descriptivas adicionales\n",
        "print(\"Media:\", df['turns'].mean())\n",
        "print(\"Mediana:\", df['turns'].median())\n",
        "print(\"Desv. Estándar:\", df['turns'].std())"
      ],
      "metadata": {
        "colab": {
          "base_uri": "https://localhost:8080/",
          "height": 462
        },
        "id": "d9-UuoE-f10g",
        "outputId": "1ab5f4ae-ee92-4748-e946-f1d061e62058"
      },
      "execution_count": 6,
      "outputs": [
        {
          "output_type": "display_data",
          "data": {
            "text/plain": [
              "<Figure size 800x400 with 1 Axes>"
            ],
            "image/png": "[encoded data removed]"
          },
          "metadata": {}
        },
        {
          "output_type": "stream",
          "name": "stdout",
          "text": [
            "Media: 60.46599860404826\n",
            "Mediana: 55.0\n",
            "Desv. Estándar: 33.570584753537055\n"
          ]
        }
      ]
    },
    {
      "cell_type": "code",
      "source": [
        "numeric_cols = ['created_at', 'last_move_at', 'turns', 'opening_ply']\n",
        "corr_matrix = df[numeric_cols].corr()\n",
        "\n",
        "plt.figure(figsize=(8,6))\n",
        "sns.heatmap(corr_matrix, annot=True, cmap=\"coolwarm\")\n",
        "plt.title(\"Matriz de correlación entre variables numéricas\")\n",
        "plt.show()"
      ],
      "metadata": {
        "colab": {
          "base_uri": "https://localhost:8080/",
          "height": 545
        },
        "id": "D7V3AZ7gH_cG",
        "outputId": "dbae9297-4f42-4b64-b3c7-023979d7c5b5"
      },
      "execution_count": 13,
      "outputs": [
        {
          "output_type": "display_data",
          "data": {
            "text/plain": [
              "<Figure size 800x600 with 2 Axes>"
            ],
            "image/png": "[encoded data removed]"
          },
          "metadata": {}
        }
      ]
    },
    {
      "cell_type": "markdown",
      "source": [
        "# DATASETS II Y III. PALTA Y FOOD\n",
        "\n",
        "```\n",
        "# Tiene formato de código\n",
        "```\n",
        "\n"
      ],
      "metadata": {
        "id": "GBdiZpqUpbi8"
      }
    },
    {
      "cell_type": "code",
      "source": [
        "df2 = pd.read_csv('/content/avocado.csv') #conviene poner copiar ruta desde el archivo para evitar errores\n",
        "np.shape (df2) #devuelve el número de filas y columnas demostrando que el df cumple con la consigna\n",
        "# se trata de un df con 14 columnas sin embargo se me dificultó econtrar uno con más de 15 relacionado a mi profesión. Lo mismo sucede para el dataset III que esta compuesto por 2 archivos"
      ],
      "metadata": {
        "colab": {
          "base_uri": "https://localhost:8080/"
        },
        "id": "pvHFJwsdoteW",
        "outputId": "28b44a17-df94-419e-fea3-16f231098b87"
      },
      "execution_count": 15,
      "outputs": [
        {
          "output_type": "execute_result",
          "data": {
            "text/plain": [
              "(18249, 14)"
            ]
          },
          "metadata": {},
          "execution_count": 15
        }
      ]
    },
    {
      "cell_type": "markdown",
      "source": [],
      "metadata": {
        "id": "TmmrCGpAoq4f"
      }
    },
    {
      "cell_type": "code",
      "source": [
        "print(df2.head())"
      ],
      "metadata": {
        "colab": {
          "base_uri": "https://localhost:8080/"
        },
        "id": "5srSISHj32t_",
        "outputId": "7a627a91-937a-4fae-b43b-8b1869cc5c7a"
      },
      "execution_count": 16,
      "outputs": [
        {
          "output_type": "stream",
          "name": "stdout",
          "text": [
            "   Unnamed: 0        Date  AveragePrice  Total Volume     4046       4225  \\\n",
            "0           0  2015-12-27          1.33      64236.62  1036.74   54454.85   \n",
            "1           1  2015-12-20          1.35      54876.98   674.28   44638.81   \n",
            "2           2  2015-12-13          0.93     118220.22   794.70  109149.67   \n",
            "3           3  2015-12-06          1.08      78992.15  1132.00   71976.41   \n",
            "4           4  2015-11-29          1.28      51039.60   941.48   43838.39   \n",
            "\n",
            "     4770  Total Bags  Small Bags  Large Bags  XLarge Bags          type  \\\n",
            "0   48.16     8696.87     8603.62       93.25          0.0  conventional   \n",
            "1   58.33     9505.56     9408.07       97.49          0.0  conventional   \n",
            "2  130.50     8145.35     8042.21      103.14          0.0  conventional   \n",
            "3   72.58     5811.16     5677.40      133.76          0.0  conventional   \n",
            "4   75.78     6183.95     5986.26      197.69          0.0  conventional   \n",
            "\n",
            "   year  region  \n",
            "0  2015  Albany  \n",
            "1  2015  Albany  \n",
            "2  2015  Albany  \n",
            "3  2015  Albany  \n",
            "4  2015  Albany  \n"
          ]
        }
      ]
    },
    {
      "cell_type": "code",
      "source": [
        "print(df2.info())"
      ],
      "metadata": {
        "colab": {
          "base_uri": "https://localhost:8080/"
        },
        "id": "gBTwrBjJ4L5T",
        "outputId": "976b2634-1b68-4002-9aa1-35f5d1982689"
      },
      "execution_count": 17,
      "outputs": [
        {
          "output_type": "stream",
          "name": "stdout",
          "text": [
            "<class 'pandas.core.frame.DataFrame'>\n",
            "RangeIndex: 18249 entries, 0 to 18248\n",
            "Data columns (total 14 columns):\n",
            " #   Column        Non-Null Count  Dtype  \n",
            "---  ------        --------------  -----  \n",
            " 0   Unnamed: 0    18249 non-null  int64  \n",
            " 1   Date          18249 non-null  object \n",
            " 2   AveragePrice  18249 non-null  float64\n",
            " 3   Total Volume  18249 non-null  float64\n",
            " 4   4046          18249 non-null  float64\n",
            " 5   4225          18249 non-null  float64\n",
            " 6   4770          18249 non-null  float64\n",
            " 7   Total Bags    18249 non-null  float64\n",
            " 8   Small Bags    18249 non-null  float64\n",
            " 9   Large Bags    18249 non-null  float64\n",
            " 10  XLarge Bags   18249 non-null  float64\n",
            " 11  type          18249 non-null  object \n",
            " 12  year          18249 non-null  int64  \n",
            " 13  region        18249 non-null  object \n",
            "dtypes: float64(9), int64(2), object(3)\n",
            "memory usage: 1.9+ MB\n",
            "None\n"
          ]
        }
      ]
    },
    {
      "cell_type": "markdown",
      "source": [],
      "metadata": {
        "id": "wNNLhNRU5AWb"
      }
    },
    {
      "cell_type": "code",
      "source": [
        "df2.describe()"
      ],
      "metadata": {
        "colab": {
          "base_uri": "https://localhost:8080/",
          "height": 337
        },
        "id": "6mHeYMNN4Xcd",
        "outputId": "b10565c3-661c-41e1-8bfc-ba40edceb1ee"
      },
      "execution_count": null,
      "outputs": [
        {
          "output_type": "execute_result",
          "data": {
            "text/plain": [
              "         Unnamed: 0  AveragePrice  Total Volume          4046          4225  \\\n",
              "count  18249.000000  18249.000000  1.824900e+04  1.824900e+04  1.824900e+04   \n",
              "mean      24.232232      1.405978  8.506440e+05  2.930084e+05  2.951546e+05   \n",
              "std       15.481045      0.402677  3.453545e+06  1.264989e+06  1.204120e+06   \n",
              "min        0.000000      0.440000  8.456000e+01  0.000000e+00  0.000000e+00   \n",
              "25%       10.000000      1.100000  1.083858e+04  8.540700e+02  3.008780e+03   \n",
              "50%       24.000000      1.370000  1.073768e+05  8.645300e+03  2.906102e+04   \n",
              "75%       38.000000      1.660000  4.329623e+05  1.110202e+05  1.502069e+05   \n",
              "max       52.000000      3.250000  6.250565e+07  2.274362e+07  2.047057e+07   \n",
              "\n",
              "               4770    Total Bags    Small Bags    Large Bags    XLarge Bags  \\\n",
              "count  1.824900e+04  1.824900e+04  1.824900e+04  1.824900e+04   18249.000000   \n",
              "mean   2.283974e+04  2.396392e+05  1.821947e+05  5.433809e+04    3106.426507   \n",
              "std    1.074641e+05  9.862424e+05  7.461785e+05  2.439660e+05   17692.894652   \n",
              "min    0.000000e+00  0.000000e+00  0.000000e+00  0.000000e+00       0.000000   \n",
              "25%    0.000000e+00  5.088640e+03  2.849420e+03  1.274700e+02       0.000000   \n",
              "50%    1.849900e+02  3.974383e+04  2.636282e+04  2.647710e+03       0.000000   \n",
              "75%    6.243420e+03  1.107834e+05  8.333767e+04  2.202925e+04     132.500000   \n",
              "max    2.546439e+06  1.937313e+07  1.338459e+07  5.719097e+06  551693.650000   \n",
              "\n",
              "               year  \n",
              "count  18249.000000  \n",
              "mean    2016.147899  \n",
              "std        0.939938  \n",
              "min     2015.000000  \n",
              "25%     2015.000000  \n",
              "50%     2016.000000  \n",
              "75%     2017.000000  \n",
              "max     2018.000000  "
            ],
            "text/html": [
              "\n",
              "  <div id=\"df-2dde62f5-52bc-4267-b279-2025f3507831\" class=\"colab-df-container\">\n",
              "    <div>\n",
              "<style scoped>\n",
              "    .dataframe tbody tr th:only-of-type {\n",
              "        vertical-align: middle;\n",
              "    }\n",
              "\n",
              "    .dataframe tbody tr th {\n",
              "        vertical-align: top;\n",
              "    }\n",
              "\n",
              "    .dataframe thead th {\n",
              "        text-align: right;\n",
              "    }\n",
              "</style>\n",
              "<table border=\"1\" class=\"dataframe\">\n",
              "  <thead>\n",
              "    <tr style=\"text-align: right;\">\n",
              "      <th></th>\n",
              "      <th>Unnamed: 0</th>\n",
              "      <th>AveragePrice</th>\n",
              "      <th>Total Volume</th>\n",
              "      <th>4046</th>\n",
              "      <th>4225</th>\n",
              "      <th>4770</th>\n",
              "      <th>Total Bags</th>\n",
              "      <th>Small Bags</th>\n",
              "      <th>Large Bags</th>\n",
              "      <th>XLarge Bags</th>\n",
              "      <th>year</th>\n",
              "    </tr>\n",
              "  </thead>\n",
              "  <tbody>\n",
              "    <tr>\n",
              "      <th>count</th>\n",
              "      <td>18249.000000</td>\n",
              "      <td>18249.000000</td>\n",
              "      <td>1.824900e+04</td>\n",
              "      <td>1.824900e+04</td>\n",
              "      <td>1.824900e+04</td>\n",
              "      <td>1.824900e+04</td>\n",
              "      <td>1.824900e+04</td>\n",
              "      <td>1.824900e+04</td>\n",
              "      <td>1.824900e+04</td>\n",
              "      <td>18249.000000</td>\n",
              "      <td>18249.000000</td>\n",
              "    </tr>\n",
              "    <tr>\n",
              "      <th>mean</th>\n",
              "      <td>24.232232</td>\n",
              "      <td>1.405978</td>\n",
              "      <td>8.506440e+05</td>\n",
              "      <td>2.930084e+05</td>\n",
              "      <td>2.951546e+05</td>\n",
              "      <td>2.283974e+04</td>\n",
              "      <td>2.396392e+05</td>\n",
              "      <td>1.821947e+05</td>\n",
              "      <td>5.433809e+04</td>\n",
              "      <td>3106.426507</td>\n",
              "      <td>2016.147899</td>\n",
              "    </tr>\n",
              "    <tr>\n",
              "      <th>std</th>\n",
              "      <td>15.481045</td>\n",
              "      <td>0.402677</td>\n",
              "      <td>3.453545e+06</td>\n",
              "      <td>1.264989e+06</td>\n",
              "      <td>1.204120e+06</td>\n",
              "      <td>1.074641e+05</td>\n",
              "      <td>9.862424e+05</td>\n",
              "      <td>7.461785e+05</td>\n",
              "      <td>2.439660e+05</td>\n",
              "      <td>17692.894652</td>\n",
              "      <td>0.939938</td>\n",
              "    </tr>\n",
              "    <tr>\n",
              "      <th>min</th>\n",
              "      <td>0.000000</td>\n",
              "      <td>0.440000</td>\n",
              "      <td>8.456000e+01</td>\n",
              "      <td>0.000000e+00</td>\n",
              "      <td>0.000000e+00</td>\n",
              "      <td>0.000000e+00</td>\n",
              "      <td>0.000000e+00</td>\n",
              "      <td>0.000000e+00</td>\n",
              "      <td>0.000000e+00</td>\n",
              "      <td>0.000000</td>\n",
              "      <td>2015.000000</td>\n",
              "    </tr>\n",
              "    <tr>\n",
              "      <th>25%</th>\n",
              "      <td>10.000000</td>\n",
              "      <td>1.100000</td>\n",
              "      <td>1.083858e+04</td>\n",
              "      <td>8.540700e+02</td>\n",
              "      <td>3.008780e+03</td>\n",
              "      <td>0.000000e+00</td>\n",
              "      <td>5.088640e+03</td>\n",
              "      <td>2.849420e+03</td>\n",
              "      <td>1.274700e+02</td>\n",
              "      <td>0.000000</td>\n",
              "      <td>2015.000000</td>\n",
              "    </tr>\n",
              "    <tr>\n",
              "      <th>50%</th>\n",
              "      <td>24.000000</td>\n",
              "      <td>1.370000</td>\n",
              "      <td>1.073768e+05</td>\n",
              "      <td>8.645300e+03</td>\n",
              "      <td>2.906102e+04</td>\n",
              "      <td>1.849900e+02</td>\n",
              "      <td>3.974383e+04</td>\n",
              "      <td>2.636282e+04</td>\n",
              "      <td>2.647710e+03</td>\n",
              "      <td>0.000000</td>\n",
              "      <td>2016.000000</td>\n",
              "    </tr>\n",
              "    <tr>\n",
              "      <th>75%</th>\n",
              "      <td>38.000000</td>\n",
              "      <td>1.660000</td>\n",
              "      <td>4.329623e+05</td>\n",
              "      <td>1.110202e+05</td>\n",
              "      <td>1.502069e+05</td>\n",
              "      <td>6.243420e+03</td>\n",
              "      <td>1.107834e+05</td>\n",
              "      <td>8.333767e+04</td>\n",
              "      <td>2.202925e+04</td>\n",
              "      <td>132.500000</td>\n",
              "      <td>2017.000000</td>\n",
              "    </tr>\n",
              "    <tr>\n",
              "      <th>max</th>\n",
              "      <td>52.000000</td>\n",
              "      <td>3.250000</td>\n",
              "      <td>6.250565e+07</td>\n",
              "      <td>2.274362e+07</td>\n",
              "      <td>2.047057e+07</td>\n",
              "      <td>2.546439e+06</td>\n",
              "      <td>1.937313e+07</td>\n",
              "      <td>1.338459e+07</td>\n",
              "      <td>5.719097e+06</td>\n",
              "      <td>551693.650000</td>\n",
              "      <td>2018.000000</td>\n",
              "    </tr>\n",
              "  </tbody>\n",
              "</table>\n",
              "</div>\n",
              "    <div class=\"colab-df-buttons\">\n",
              "\n",
              "  <div class=\"colab-df-container\">\n",
              "    <button class=\"colab-df-convert\" onclick=\"convertToInteractive('df-2dde62f5-52bc-4267-b279-2025f3507831')\"\n",
              "            title=\"Convert this dataframe to an interactive table.\"\n",
              "            style=\"display:none;\">\n",
              "\n",
              "  <svg xmlns=\"http://www.w3.org/2000/svg\" height=\"24px\" viewBox=\"0 -960 960 960\">\n",
              "    <path d=\"M120-120v-720h720v720H120Zm60-500h600v-160H180v160Zm220 220h160v-160H400v160Zm0 220h160v-160H400v160ZM180-400h160v-160H180v160Zm440 0h160v-160H620v160ZM180-180h160v-160H180v160Zm440 0h160v-160H620v160Z\"/>\n",
              "  </svg>\n",
              "    </button>\n",
              "\n",
              "  <style>\n",
              "    .colab-df-container {\n",
              "      display:flex;\n",
              "      gap: 12px;\n",
              "    }\n",
              "\n",
              "    .colab-df-convert {\n",
              "      background-color: #E8F0FE;\n",
              "      border: none;\n",
              "      border-radius: 50%;\n",
              "      cursor: pointer;\n",
              "      display: none;\n",
              "      fill: #1967D2;\n",
              "      height: 32px;\n",
              "      padding: 0 0 0 0;\n",
              "      width: 32px;\n",
              "    }\n",
              "\n",
              "    .colab-df-convert:hover {\n",
              "      background-color: #E2EBFA;\n",
              "      box-shadow: 0px 1px 2px rgba(60, 64, 67, 0.3), 0px 1px 3px 1px rgba(60, 64, 67, 0.15);\n",
              "      fill: #174EA6;\n",
              "    }\n",
              "\n",
              "    .colab-df-buttons div {\n",
              "      margin-bottom: 4px;\n",
              "    }\n",
              "\n",
              "    [theme=dark] .colab-df-convert {\n",
              "      background-color: #3B4455;\n",
              "      fill: #D2E3FC;\n",
              "    }\n",
              "\n",
              "    [theme=dark] .colab-df-convert:hover {\n",
              "      background-color: #434B5C;\n",
              "      box-shadow: 0px 1px 3px 1px rgba(0, 0, 0, 0.15);\n",
              "      filter: drop-shadow(0px 1px 2px rgba(0, 0, 0, 0.3));\n",
              "      fill: #FFFFFF;\n",
              "    }\n",
              "  </style>\n",
              "\n",
              "    <script>\n",
              "      const buttonEl =\n",
              "        document.querySelector('#df-2dde62f5-52bc-4267-b279-2025f3507831 button.colab-df-convert');\n",
              "      buttonEl.style.display =\n",
              "        google.colab.kernel.accessAllowed ? 'block' : 'none';\n",
              "\n",
              "      async function convertToInteractive(key) {\n",
              "        const element = document.querySelector('#df-2dde62f5-52bc-4267-b279-2025f3507831');\n",
              "        const dataTable =\n",
              "          await google.colab.kernel.invokeFunction('convertToInteractive',\n",
              "                                                    [key], {});\n",
              "        if (!dataTable) return;\n",
              "\n",
              "        const docLinkHtml = 'Like what you see? Visit the ' +\n",
              "          '<a target=\"_blank\" href=https://colab.research.google.com/notebooks/data_table.ipynb>data table notebook</a>'\n",
              "          + ' to learn more about interactive tables.';\n",
              "        element.innerHTML = '';\n",
              "        dataTable['output_type'] = 'display_data';\n",
              "        await google.colab.output.renderOutput(dataTable, element);\n",
              "        const docLink = document.createElement('div');\n",
              "        docLink.innerHTML = docLinkHtml;\n",
              "        element.appendChild(docLink);\n",
              "      }\n",
              "    </script>\n",
              "  </div>\n",
              "\n",
              "\n",
              "<div id=\"df-858885b0-96e2-4e5e-89ff-dbec59b51997\">\n",
              "  <button class=\"colab-df-quickchart\" onclick=\"quickchart('df-858885b0-96e2-4e5e-89ff-dbec59b51997')\"\n",
              "            title=\"Suggest charts\"\n",
              "            style=\"display:none;\">\n",
              "\n",
              "<svg xmlns=\"http://www.w3.org/2000/svg\" height=\"24px\"viewBox=\"0 0 24 24\"\n",
              "     width=\"24px\">\n",
              "    <g>\n",
              "        <path d=\"M19 3H5c-1.1 0-2 .9-2 2v14c0 1.1.9 2 2 2h14c1.1 0 2-.9 2-2V5c0-1.1-.9-2-2-2zM9 17H7v-7h2v7zm4 0h-2V7h2v10zm4 0h-2v-4h2v4z\"/>\n",
              "    </g>\n",
              "</svg>\n",
              "  </button>\n",
              "\n",
              "<style>\n",
              "  .colab-df-quickchart {\n",
              "      --bg-color: #E8F0FE;\n",
              "      --fill-color: #1967D2;\n",
              "      --hover-bg-color: #E2EBFA;\n",
              "      --hover-fill-color: #174EA6;\n",
              "      --disabled-fill-color: #AAA;\n",
              "      --disabled-bg-color: #DDD;\n",
              "  }\n",
              "\n",
              "  [theme=dark] .colab-df-quickchart {\n",
              "      --bg-color: #3B4455;\n",
              "      --fill-color: #D2E3FC;\n",
              "      --hover-bg-color: #434B5C;\n",
              "      --hover-fill-color: #FFFFFF;\n",
              "      --disabled-bg-color: #3B4455;\n",
              "      --disabled-fill-color: #666;\n",
              "  }\n",
              "\n",
              "  .colab-df-quickchart {\n",
              "    background-color: var(--bg-color);\n",
              "    border: none;\n",
              "    border-radius: 50%;\n",
              "    cursor: pointer;\n",
              "    display: none;\n",
              "    fill: var(--fill-color);\n",
              "    height: 32px;\n",
              "    padding: 0;\n",
              "    width: 32px;\n",
              "  }\n",
              "\n",
              "  .colab-df-quickchart:hover {\n",
              "    background-color: var(--hover-bg-color);\n",
              "    box-shadow: 0 1px 2px rgba(60, 64, 67, 0.3), 0 1px 3px 1px rgba(60, 64, 67, 0.15);\n",
              "    fill: var(--button-hover-fill-color);\n",
              "  }\n",
              "\n",
              "  .colab-df-quickchart-complete:disabled,\n",
              "  .colab-df-quickchart-complete:disabled:hover {\n",
              "    background-color: var(--disabled-bg-color);\n",
              "    fill: var(--disabled-fill-color);\n",
              "    box-shadow: none;\n",
              "  }\n",
              "\n",
              "  .colab-df-spinner {\n",
              "    border: 2px solid var(--fill-color);\n",
              "    border-color: transparent;\n",
              "    border-bottom-color: var(--fill-color);\n",
              "    animation:\n",
              "      spin 1s steps(1) infinite;\n",
              "  }\n",
              "\n",
              "  @keyframes spin {\n",
              "    0% {\n",
              "      border-color: transparent;\n",
              "      border-bottom-color: var(--fill-color);\n",
              "      border-left-color: var(--fill-color);\n",
              "    }\n",
              "    20% {\n",
              "      border-color: transparent;\n",
              "      border-left-color: var(--fill-color);\n",
              "      border-top-color: var(--fill-color);\n",
              "    }\n",
              "    30% {\n",
              "      border-color: transparent;\n",
              "      border-left-color: var(--fill-color);\n",
              "      border-top-color: var(--fill-color);\n",
              "      border-right-color: var(--fill-color);\n",
              "    }\n",
              "    40% {\n",
              "      border-color: transparent;\n",
              "      border-right-color: var(--fill-color);\n",
              "      border-top-color: var(--fill-color);\n",
              "    }\n",
              "    60% {\n",
              "      border-color: transparent;\n",
              "      border-right-color: var(--fill-color);\n",
              "    }\n",
              "    80% {\n",
              "      border-color: transparent;\n",
              "      border-right-color: var(--fill-color);\n",
              "      border-bottom-color: var(--fill-color);\n",
              "    }\n",
              "    90% {\n",
              "      border-color: transparent;\n",
              "      border-bottom-color: var(--fill-color);\n",
              "    }\n",
              "  }\n",
              "</style>\n",
              "\n",
              "  <script>\n",
              "    async function quickchart(key) {\n",
              "      const quickchartButtonEl =\n",
              "        document.querySelector('#' + key + ' button');\n",
              "      quickchartButtonEl.disabled = true;  // To prevent multiple clicks.\n",
              "      quickchartButtonEl.classList.add('colab-df-spinner');\n",
              "      try {\n",
              "        const charts = await google.colab.kernel.invokeFunction(\n",
              "            'suggestCharts', [key], {});\n",
              "      } catch (error) {\n",
              "        console.error('Error during call to suggestCharts:', error);\n",
              "      }\n",
              "      quickchartButtonEl.classList.remove('colab-df-spinner');\n",
              "      quickchartButtonEl.classList.add('colab-df-quickchart-complete');\n",
              "    }\n",
              "    (() => {\n",
              "      let quickchartButtonEl =\n",
              "        document.querySelector('#df-858885b0-96e2-4e5e-89ff-dbec59b51997 button');\n",
              "      quickchartButtonEl.style.display =\n",
              "        google.colab.kernel.accessAllowed ? 'block' : 'none';\n",
              "    })();\n",
              "  </script>\n",
              "</div>\n",
              "\n",
              "    </div>\n",
              "  </div>\n"
            ],
            "application/vnd.google.colaboratory.intrinsic+json": {
              "type": "dataframe",
              "summary": "{\n  \"name\": \"df2\",\n  \"rows\": 8,\n  \"fields\": [\n    {\n      \"column\": \"Unnamed: 0\",\n      \"properties\": {\n        \"dtype\": \"number\",\n        \"std\": 6443.747252600358,\n        \"min\": 0.0,\n        \"max\": 18249.0,\n        \"num_unique_values\": 8,\n        \"samples\": [\n          24.232231903117977,\n          24.0,\n          18249.0\n        ],\n        \"semantic_type\": \"\",\n        \"description\": \"\"\n      }\n    },\n    {\n      \"column\": \"AveragePrice\",\n      \"properties\": {\n        \"dtype\": \"number\",\n        \"std\": 6451.509565238354,\n        \"min\": 0.40267655549555004,\n        \"max\": 18249.0,\n        \"num_unique_values\": 8,\n        \"samples\": [\n          1.405978409775878,\n          1.37,\n          18249.0\n        ],\n        \"semantic_type\": \"\",\n        \"description\": \"\"\n      }\n    },\n    {\n      \"column\": \"Total Volume\",\n      \"properties\": {\n        \"dtype\": \"number\",\n        \"std\": 21883812.68254786,\n        \"min\": 84.56,\n        \"max\": 62505646.52,\n        \"num_unique_values\": 8,\n        \"samples\": [\n          850644.0130089321,\n          107376.76,\n          18249.0\n        ],\n        \"semantic_type\": \"\",\n        \"description\": \"\"\n      }\n    },\n    {\n      \"column\": \"4046\",\n      \"properties\": {\n        \"dtype\": \"number\",\n        \"std\": 7966934.580237158,\n        \"min\": 0.0,\n        \"max\": 22743616.17,\n        \"num_unique_values\": 8,\n        \"samples\": [\n          293008.4245306592,\n          8645.3,\n          18249.0\n        ],\n        \"semantic_type\": \"\",\n        \"description\": \"\"\n      }\n    },\n    {\n      \"column\": \"4225\",\n      \"properties\": {\n        \"dtype\": \"number\",\n        \"std\": 7163044.371395575,\n        \"min\": 0.0,\n        \"max\": 20470572.61,\n        \"num_unique_values\": 8,\n        \"samples\": [\n          295154.56835607433,\n          29061.02,\n          18249.0\n        ],\n        \"semantic_type\": \"\",\n        \"description\": \"\"\n      }\n    },\n    {\n      \"column\": \"4770\",\n      \"properties\": {\n        \"dtype\": \"number\",\n        \"std\": 893195.338565341,\n        \"min\": 0.0,\n        \"max\": 2546439.11,\n        \"num_unique_values\": 7,\n        \"samples\": [\n          18249.0,\n          22839.73599265713,\n          6243.42\n        ],\n        \"semantic_type\": \"\",\n        \"description\": \"\"\n      }\n    },\n    {\n      \"column\": \"Total Bags\",\n      \"properties\": {\n        \"dtype\": \"number\",\n        \"std\": 6786789.432763213,\n        \"min\": 0.0,\n        \"max\": 19373134.37,\n        \"num_unique_values\": 8,\n        \"samples\": [\n          239639.20205983886,\n          39743.83,\n          18249.0\n        ],\n        \"semantic_type\": \"\",\n        \"description\": \"\"\n      }\n    },\n    {\n      \"column\": \"Small Bags\",\n      \"properties\": {\n        \"dtype\": \"number\",\n        \"std\": 4685347.23458204,\n        \"min\": 0.0,\n        \"max\": 13384586.8,\n        \"num_unique_values\": 8,\n        \"samples\": [\n          182194.68669570936,\n          26362.82,\n          18249.0\n        ],\n        \"semantic_type\": \"\",\n        \"description\": \"\"\n      }\n    },\n    {\n      \"column\": \"Large Bags\",\n      \"properties\": {\n        \"dtype\": \"number\",\n        \"std\": 2006426.2977622782,\n        \"min\": 0.0,\n        \"max\": 5719096.61,\n        \"num_unique_values\": 8,\n        \"samples\": [\n          54338.08814455587,\n          2647.71,\n          18249.0\n        ],\n        \"semantic_type\": \"\",\n        \"description\": \"\"\n      }\n    },\n    {\n      \"column\": \"XLarge Bags\",\n      \"properties\": {\n        \"dtype\": \"number\",\n        \"std\": 193235.6205446511,\n        \"min\": 0.0,\n        \"max\": 551693.65,\n        \"num_unique_values\": 6,\n        \"samples\": [\n          18249.0,\n          3106.426507205874,\n          551693.65\n        ],\n        \"semantic_type\": \"\",\n        \"description\": \"\"\n      }\n    },\n    {\n      \"column\": \"year\",\n      \"properties\": {\n        \"dtype\": \"number\",\n        \"std\": 5883.365845560833,\n        \"min\": 0.9399384671406024,\n        \"max\": 18249.0,\n        \"num_unique_values\": 7,\n        \"samples\": [\n          18249.0,\n          2016.1478985149872,\n          2017.0\n        ],\n        \"semantic_type\": \"\",\n        \"description\": \"\"\n      }\n    }\n  ]\n}"
            }
          },
          "metadata": {},
          "execution_count": 15
        }
      ]
    },
    {
      "cell_type": "code",
      "source": [
        "print(df2.isna()) #se corrobora que no existen valores nulos en el df2"
      ],
      "metadata": {
        "colab": {
          "base_uri": "https://localhost:8080/"
        },
        "id": "CYaavh-nkjpp",
        "outputId": "2d542b91-0f47-49a7-efc0-555e21a914e1"
      },
      "execution_count": 18,
      "outputs": [
        {
          "output_type": "stream",
          "name": "stdout",
          "text": [
            "       Unnamed: 0   Date  AveragePrice  Total Volume   4046   4225   4770  \\\n",
            "0           False  False         False         False  False  False  False   \n",
            "1           False  False         False         False  False  False  False   \n",
            "2           False  False         False         False  False  False  False   \n",
            "3           False  False         False         False  False  False  False   \n",
            "4           False  False         False         False  False  False  False   \n",
            "...           ...    ...           ...           ...    ...    ...    ...   \n",
            "18244       False  False         False         False  False  False  False   \n",
            "18245       False  False         False         False  False  False  False   \n",
            "18246       False  False         False         False  False  False  False   \n",
            "18247       False  False         False         False  False  False  False   \n",
            "18248       False  False         False         False  False  False  False   \n",
            "\n",
            "       Total Bags  Small Bags  Large Bags  XLarge Bags   type   year  region  \n",
            "0           False       False       False        False  False  False   False  \n",
            "1           False       False       False        False  False  False   False  \n",
            "2           False       False       False        False  False  False   False  \n",
            "3           False       False       False        False  False  False   False  \n",
            "4           False       False       False        False  False  False   False  \n",
            "...           ...         ...         ...          ...    ...    ...     ...  \n",
            "18244       False       False       False        False  False  False   False  \n",
            "18245       False       False       False        False  False  False   False  \n",
            "18246       False       False       False        False  False  False   False  \n",
            "18247       False       False       False        False  False  False   False  \n",
            "18248       False       False       False        False  False  False   False  \n",
            "\n",
            "[18249 rows x 14 columns]\n"
          ]
        }
      ]
    },
    {
      "cell_type": "code",
      "source": [
        "# Histograma de la variable precio\n",
        "plt.figure(figsize=(8,4))\n",
        "sns.histplot(df2['AveragePrice'], kde=True, color='green')\n",
        "plt.title(\"Distribución de 'Precio'\")\n",
        "plt.xlabel(\"Precio\")\n",
        "plt.ylabel(\"Frecuencia\")\n",
        "plt.show()\n",
        "\n",
        "# Estadísticas descriptivas adicionales\n",
        "print(\"Media:\", df2['AveragePrice'].mean())\n",
        "print(\"Mediana:\", df2['AveragePrice'].median())\n",
        "print(\"Desv. Estándar:\", df2['AveragePrice'].std())"
      ],
      "metadata": {
        "colab": {
          "base_uri": "https://localhost:8080/",
          "height": 462
        },
        "id": "fejQfevCkuXf",
        "outputId": "e8122fa3-d6e5-4bfc-a32b-2e5424cf3467"
      },
      "execution_count": 19,
      "outputs": [
        {
          "output_type": "display_data",
          "data": {
            "text/plain": [
              "<Figure size 800x400 with 1 Axes>"
            ],
            "image/png": "[encoded data removed]"
          },
          "metadata": {}
        },
        {
          "output_type": "stream",
          "name": "stdout",
          "text": [
            "Media: 1.405978409775878\n",
            "Mediana: 1.37\n",
            "Desv. Estándar: 0.40267655549555004\n"
          ]
        }
      ]
    },
    {
      "cell_type": "code",
      "source": [
        "df3 = pd.read_csv('/content/food 1.csv')\n",
        "np.shape (df3) #analogamente al anterior tiene menos columnas y filas que lo pedido en la consigna"
      ],
      "metadata": {
        "colab": {
          "base_uri": "https://localhost:8080/"
        },
        "id": "1_g3kqkA5pFk",
        "outputId": "c38d2b46-d677-412c-fdf0-8ef604627fbd"
      },
      "execution_count": 21,
      "outputs": [
        {
          "output_type": "execute_result",
          "data": {
            "text/plain": [
              "(1148, 14)"
            ]
          },
          "metadata": {},
          "execution_count": 21
        }
      ]
    },
    {
      "cell_type": "code",
      "source": [
        "print(df3.head())"
      ],
      "metadata": {
        "colab": {
          "base_uri": "https://localhost:8080/"
        },
        "id": "arrsOW2b9b69",
        "outputId": "7be952a1-5d78-4081-d08f-af52d400a85d"
      },
      "execution_count": 23,
      "outputs": [
        {
          "output_type": "stream",
          "name": "stdout",
          "text": [
            "      Company                           Item Calories Calories from\\nFat  \\\n",
            "0  McDonald’s                      Hamburger      250                 80   \n",
            "1  McDonald’s                   Cheeseburger      300                110   \n",
            "2  McDonald’s            Double Cheeseburger      440                210   \n",
            "3  McDonald’s                       McDouble      390                170   \n",
            "4  McDonald’s   Quarter Pounder® with Cheese      510                230   \n",
            "\n",
            "  Total Fat\\n(g) Saturated Fat\\n(g) Trans Fat\\n(g) Cholesterol\\n(mg)  \\\n",
            "0              9                3.5            0.5                25   \n",
            "1             12                  6            0.5                40   \n",
            "2             23                 11            1.5                80   \n",
            "3             19                  8              1                65   \n",
            "4             26                 12            1.5                90   \n",
            "\n",
            "  Sodium \\n(mg) Carbs\\n(g) Fiber\\n(g) Sugars\\n(g) Protein\\n(g)  \\\n",
            "0           520         31          2           6           12   \n",
            "1           750         33          2           6           15   \n",
            "2          1150         34          2           7           25   \n",
            "3           920         33          2           7           22   \n",
            "4          1190         40          3           9           29   \n",
            "\n",
            "  Weight Watchers\\nPnts  \n",
            "0                 247.5  \n",
            "1                   297  \n",
            "2                   433  \n",
            "3                   383  \n",
            "4                   502  \n"
          ]
        }
      ]
    },
    {
      "cell_type": "code",
      "source": [
        "print(df3.info())"
      ],
      "metadata": {
        "colab": {
          "base_uri": "https://localhost:8080/"
        },
        "id": "79UpKih5mPhA",
        "outputId": "f40bed32-47b7-42b4-cf5e-55f4c275309c"
      },
      "execution_count": 25,
      "outputs": [
        {
          "output_type": "stream",
          "name": "stdout",
          "text": [
            "<class 'pandas.core.frame.DataFrame'>\n",
            "RangeIndex: 1148 entries, 0 to 1147\n",
            "Data columns (total 14 columns):\n",
            " #   Column                Non-Null Count  Dtype \n",
            "---  ------                --------------  ----- \n",
            " 0   Company               1148 non-null   object\n",
            " 1   Item                  1148 non-null   object\n",
            " 2   Calories              1147 non-null   object\n",
            " 3   Calories from\n",
            "Fat     642 non-null    object\n",
            " 4   Total Fat\n",
            "(g)         1091 non-null   object\n",
            " 5   Saturated Fat\n",
            "(g)     1091 non-null   object\n",
            " 6   Trans Fat\n",
            "(g)         1091 non-null   object\n",
            " 7   Cholesterol\n",
            "(mg)      1147 non-null   object\n",
            " 8   Sodium \n",
            "(mg)          1147 non-null   object\n",
            " 9   Carbs\n",
            "(g)             1091 non-null   object\n",
            " 10  Fiber\n",
            "(g)             1091 non-null   object\n",
            " 11  Sugars\n",
            "(g)            1147 non-null   object\n",
            " 12  Protein\n",
            "(g)           1091 non-null   object\n",
            " 13  Weight Watchers\n",
            "Pnts  887 non-null    object\n",
            "dtypes: object(14)\n",
            "memory usage: 125.7+ KB\n",
            "None\n"
          ]
        }
      ]
    },
    {
      "cell_type": "code",
      "source": [
        "df3.describe()"
      ],
      "metadata": {
        "colab": {
          "base_uri": "https://localhost:8080/",
          "height": 229
        },
        "id": "yQiC38uYmZJ3",
        "outputId": "029deaa4-f400-414f-d038-f534669eb2d3"
      },
      "execution_count": 26,
      "outputs": [
        {
          "output_type": "execute_result",
          "data": {
            "text/plain": [
              "           Company      Item Calories Calories from\\nFat Total Fat\\n(g)  \\\n",
              "count         1148      1148     1147                642           1091   \n",
              "unique           6      1072      105                 64             73   \n",
              "top     McDonald’s  29 fl oz        0                  0              0   \n",
              "freq           329        11       83                175            357   \n",
              "\n",
              "       Saturated Fat\\n(g) Trans Fat\\n(g) Cholesterol\\n(mg) Sodium \\n(mg)  \\\n",
              "count                1091           1091              1147          1147   \n",
              "unique                 35             11                65           214   \n",
              "top                     0              0                 0             0   \n",
              "freq                  383            954               378            54   \n",
              "\n",
              "       Carbs\\n(g) Fiber\\n(g) Sugars\\n(g) Protein\\n(g) Weight Watchers\\nPnts  \n",
              "count        1091       1091        1147         1091                   887  \n",
              "unique        131         17         122           56                   524  \n",
              "top             0          0           0            0                     0  \n",
              "freq           75        551         190          314                    67  "
            ],
            "text/html": [
              "\n",
              "  <div id=\"df-e36cd9d5-a691-4569-8275-1acfa8323d5e\" class=\"colab-df-container\">\n",
              "    <div>\n",
              "<style scoped>\n",
              "    .dataframe tbody tr th:only-of-type {\n",
              "        vertical-align: middle;\n",
              "    }\n",
              "\n",
              "    .dataframe tbody tr th {\n",
              "        vertical-align: top;\n",
              "    }\n",
              "\n",
              "    .dataframe thead th {\n",
              "        text-align: right;\n",
              "    }\n",
              "</style>\n",
              "<table border=\"1\" class=\"dataframe\">\n",
              "  <thead>\n",
              "    <tr style=\"text-align: right;\">\n",
              "      <th></th>\n",
              "      <th>Company</th>\n",
              "      <th>Item</th>\n",
              "      <th>Calories</th>\n",
              "      <th>Calories from\\nFat</th>\n",
              "      <th>Total Fat\\n(g)</th>\n",
              "      <th>Saturated Fat\\n(g)</th>\n",
              "      <th>Trans Fat\\n(g)</th>\n",
              "      <th>Cholesterol\\n(mg)</th>\n",
              "      <th>Sodium \\n(mg)</th>\n",
              "      <th>Carbs\\n(g)</th>\n",
              "      <th>Fiber\\n(g)</th>\n",
              "      <th>Sugars\\n(g)</th>\n",
              "      <th>Protein\\n(g)</th>\n",
              "      <th>Weight Watchers\\nPnts</th>\n",
              "    </tr>\n",
              "  </thead>\n",
              "  <tbody>\n",
              "    <tr>\n",
              "      <th>count</th>\n",
              "      <td>1148</td>\n",
              "      <td>1148</td>\n",
              "      <td>1147</td>\n",
              "      <td>642</td>\n",
              "      <td>1091</td>\n",
              "      <td>1091</td>\n",
              "      <td>1091</td>\n",
              "      <td>1147</td>\n",
              "      <td>1147</td>\n",
              "      <td>1091</td>\n",
              "      <td>1091</td>\n",
              "      <td>1147</td>\n",
              "      <td>1091</td>\n",
              "      <td>887</td>\n",
              "    </tr>\n",
              "    <tr>\n",
              "      <th>unique</th>\n",
              "      <td>6</td>\n",
              "      <td>1072</td>\n",
              "      <td>105</td>\n",
              "      <td>64</td>\n",
              "      <td>73</td>\n",
              "      <td>35</td>\n",
              "      <td>11</td>\n",
              "      <td>65</td>\n",
              "      <td>214</td>\n",
              "      <td>131</td>\n",
              "      <td>17</td>\n",
              "      <td>122</td>\n",
              "      <td>56</td>\n",
              "      <td>524</td>\n",
              "    </tr>\n",
              "    <tr>\n",
              "      <th>top</th>\n",
              "      <td>McDonald’s</td>\n",
              "      <td>29 fl oz</td>\n",
              "      <td>0</td>\n",
              "      <td>0</td>\n",
              "      <td>0</td>\n",
              "      <td>0</td>\n",
              "      <td>0</td>\n",
              "      <td>0</td>\n",
              "      <td>0</td>\n",
              "      <td>0</td>\n",
              "      <td>0</td>\n",
              "      <td>0</td>\n",
              "      <td>0</td>\n",
              "      <td>0</td>\n",
              "    </tr>\n",
              "    <tr>\n",
              "      <th>freq</th>\n",
              "      <td>329</td>\n",
              "      <td>11</td>\n",
              "      <td>83</td>\n",
              "      <td>175</td>\n",
              "      <td>357</td>\n",
              "      <td>383</td>\n",
              "      <td>954</td>\n",
              "      <td>378</td>\n",
              "      <td>54</td>\n",
              "      <td>75</td>\n",
              "      <td>551</td>\n",
              "      <td>190</td>\n",
              "      <td>314</td>\n",
              "      <td>67</td>\n",
              "    </tr>\n",
              "  </tbody>\n",
              "</table>\n",
              "</div>\n",
              "    <div class=\"colab-df-buttons\">\n",
              "\n",
              "  <div class=\"colab-df-container\">\n",
              "    <button class=\"colab-df-convert\" onclick=\"convertToInteractive('df-e36cd9d5-a691-4569-8275-1acfa8323d5e')\"\n",
              "            title=\"Convert this dataframe to an interactive table.\"\n",
              "            style=\"display:none;\">\n",
              "\n",
              "  <svg xmlns=\"http://www.w3.org/2000/svg\" height=\"24px\" viewBox=\"0 -960 960 960\">\n",
              "    <path d=\"M120-120v-720h720v720H120Zm60-500h600v-160H180v160Zm220 220h160v-160H400v160Zm0 220h160v-160H400v160ZM180-400h160v-160H180v160Zm440 0h160v-160H620v160ZM180-180h160v-160H180v160Zm440 0h160v-160H620v160Z\"/>\n",
              "  </svg>\n",
              "    </button>\n",
              "\n",
              "  <style>\n",
              "    .colab-df-container {\n",
              "      display:flex;\n",
              "      gap: 12px;\n",
              "    }\n",
              "\n",
              "    .colab-df-convert {\n",
              "      background-color: #E8F0FE;\n",
              "      border: none;\n",
              "      border-radius: 50%;\n",
              "      cursor: pointer;\n",
              "      display: none;\n",
              "      fill: #1967D2;\n",
              "      height: 32px;\n",
              "      padding: 0 0 0 0;\n",
              "      width: 32px;\n",
              "    }\n",
              "\n",
              "    .colab-df-convert:hover {\n",
              "      background-color: #E2EBFA;\n",
              "      box-shadow: 0px 1px 2px rgba(60, 64, 67, 0.3), 0px 1px 3px 1px rgba(60, 64, 67, 0.15);\n",
              "      fill: #174EA6;\n",
              "    }\n",
              "\n",
              "    .colab-df-buttons div {\n",
              "      margin-bottom: 4px;\n",
              "    }\n",
              "\n",
              "    [theme=dark] .colab-df-convert {\n",
              "      background-color: #3B4455;\n",
              "      fill: #D2E3FC;\n",
              "    }\n",
              "\n",
              "    [theme=dark] .colab-df-convert:hover {\n",
              "      background-color: #434B5C;\n",
              "      box-shadow: 0px 1px 3px 1px rgba(0, 0, 0, 0.15);\n",
              "      filter: drop-shadow(0px 1px 2px rgba(0, 0, 0, 0.3));\n",
              "      fill: #FFFFFF;\n",
              "    }\n",
              "  </style>\n",
              "\n",
              "    <script>\n",
              "      const buttonEl =\n",
              "        document.querySelector('#df-e36cd9d5-a691-4569-8275-1acfa8323d5e button.colab-df-convert');\n",
              "      buttonEl.style.display =\n",
              "        google.colab.kernel.accessAllowed ? 'block' : 'none';\n",
              "\n",
              "      async function convertToInteractive(key) {\n",
              "        const element = document.querySelector('#df-e36cd9d5-a691-4569-8275-1acfa8323d5e');\n",
              "        const dataTable =\n",
              "          await google.colab.kernel.invokeFunction('convertToInteractive',\n",
              "                                                    [key], {});\n",
              "        if (!dataTable) return;\n",
              "\n",
              "        const docLinkHtml = 'Like what you see? Visit the ' +\n",
              "          '<a target=\"_blank\" href=https://colab.research.google.com/notebooks/data_table.ipynb>data table notebook</a>'\n",
              "          + ' to learn more about interactive tables.';\n",
              "        element.innerHTML = '';\n",
              "        dataTable['output_type'] = 'display_data';\n",
              "        await google.colab.output.renderOutput(dataTable, element);\n",
              "        const docLink = document.createElement('div');\n",
              "        docLink.innerHTML = docLinkHtml;\n",
              "        element.appendChild(docLink);\n",
              "      }\n",
              "    </script>\n",
              "  </div>\n",
              "\n",
              "\n",
              "<div id=\"df-dfcad31c-bbfd-4154-af99-6abbc81fb7a9\">\n",
              "  <button class=\"colab-df-quickchart\" onclick=\"quickchart('df-dfcad31c-bbfd-4154-af99-6abbc81fb7a9')\"\n",
              "            title=\"Suggest charts\"\n",
              "            style=\"display:none;\">\n",
              "\n",
              "<svg xmlns=\"http://www.w3.org/2000/svg\" height=\"24px\"viewBox=\"0 0 24 24\"\n",
              "     width=\"24px\">\n",
              "    <g>\n",
              "        <path d=\"M19 3H5c-1.1 0-2 .9-2 2v14c0 1.1.9 2 2 2h14c1.1 0 2-.9 2-2V5c0-1.1-.9-2-2-2zM9 17H7v-7h2v7zm4 0h-2V7h2v10zm4 0h-2v-4h2v4z\"/>\n",
              "    </g>\n",
              "</svg>\n",
              "  </button>\n",
              "\n",
              "<style>\n",
              "  .colab-df-quickchart {\n",
              "      --bg-color: #E8F0FE;\n",
              "      --fill-color: #1967D2;\n",
              "      --hover-bg-color: #E2EBFA;\n",
              "      --hover-fill-color: #174EA6;\n",
              "      --disabled-fill-color: #AAA;\n",
              "      --disabled-bg-color: #DDD;\n",
              "  }\n",
              "\n",
              "  [theme=dark] .colab-df-quickchart {\n",
              "      --bg-color: #3B4455;\n",
              "      --fill-color: #D2E3FC;\n",
              "      --hover-bg-color: #434B5C;\n",
              "      --hover-fill-color: #FFFFFF;\n",
              "      --disabled-bg-color: #3B4455;\n",
              "      --disabled-fill-color: #666;\n",
              "  }\n",
              "\n",
              "  .colab-df-quickchart {\n",
              "    background-color: var(--bg-color);\n",
              "    border: none;\n",
              "    border-radius: 50%;\n",
              "    cursor: pointer;\n",
              "    display: none;\n",
              "    fill: var(--fill-color);\n",
              "    height: 32px;\n",
              "    padding: 0;\n",
              "    width: 32px;\n",
              "  }\n",
              "\n",
              "  .colab-df-quickchart:hover {\n",
              "    background-color: var(--hover-bg-color);\n",
              "    box-shadow: 0 1px 2px rgba(60, 64, 67, 0.3), 0 1px 3px 1px rgba(60, 64, 67, 0.15);\n",
              "    fill: var(--button-hover-fill-color);\n",
              "  }\n",
              "\n",
              "  .colab-df-quickchart-complete:disabled,\n",
              "  .colab-df-quickchart-complete:disabled:hover {\n",
              "    background-color: var(--disabled-bg-color);\n",
              "    fill: var(--disabled-fill-color);\n",
              "    box-shadow: none;\n",
              "  }\n",
              "\n",
              "  .colab-df-spinner {\n",
              "    border: 2px solid var(--fill-color);\n",
              "    border-color: transparent;\n",
              "    border-bottom-color: var(--fill-color);\n",
              "    animation:\n",
              "      spin 1s steps(1) infinite;\n",
              "  }\n",
              "\n",
              "  @keyframes spin {\n",
              "    0% {\n",
              "      border-color: transparent;\n",
              "      border-bottom-color: var(--fill-color);\n",
              "      border-left-color: var(--fill-color);\n",
              "    }\n",
              "    20% {\n",
              "      border-color: transparent;\n",
              "      border-left-color: var(--fill-color);\n",
              "      border-top-color: var(--fill-color);\n",
              "    }\n",
              "    30% {\n",
              "      border-color: transparent;\n",
              "      border-left-color: var(--fill-color);\n",
              "      border-top-color: var(--fill-color);\n",
              "      border-right-color: var(--fill-color);\n",
              "    }\n",
              "    40% {\n",
              "      border-color: transparent;\n",
              "      border-right-color: var(--fill-color);\n",
              "      border-top-color: var(--fill-color);\n",
              "    }\n",
              "    60% {\n",
              "      border-color: transparent;\n",
              "      border-right-color: var(--fill-color);\n",
              "    }\n",
              "    80% {\n",
              "      border-color: transparent;\n",
              "      border-right-color: var(--fill-color);\n",
              "      border-bottom-color: var(--fill-color);\n",
              "    }\n",
              "    90% {\n",
              "      border-color: transparent;\n",
              "      border-bottom-color: var(--fill-color);\n",
              "    }\n",
              "  }\n",
              "</style>\n",
              "\n",
              "  <script>\n",
              "    async function quickchart(key) {\n",
              "      const quickchartButtonEl =\n",
              "        document.querySelector('#' + key + ' button');\n",
              "      quickchartButtonEl.disabled = true;  // To prevent multiple clicks.\n",
              "      quickchartButtonEl.classList.add('colab-df-spinner');\n",
              "      try {\n",
              "        const charts = await google.colab.kernel.invokeFunction(\n",
              "            'suggestCharts', [key], {});\n",
              "      } catch (error) {\n",
              "        console.error('Error during call to suggestCharts:', error);\n",
              "      }\n",
              "      quickchartButtonEl.classList.remove('colab-df-spinner');\n",
              "      quickchartButtonEl.classList.add('colab-df-quickchart-complete');\n",
              "    }\n",
              "    (() => {\n",
              "      let quickchartButtonEl =\n",
              "        document.querySelector('#df-dfcad31c-bbfd-4154-af99-6abbc81fb7a9 button');\n",
              "      quickchartButtonEl.style.display =\n",
              "        google.colab.kernel.accessAllowed ? 'block' : 'none';\n",
              "    })();\n",
              "  </script>\n",
              "</div>\n",
              "\n",
              "    </div>\n",
              "  </div>\n"
            ],
            "application/vnd.google.colaboratory.intrinsic+json": {
              "type": "dataframe",
              "summary": "{\n  \"name\": \"df3\",\n  \"rows\": 4,\n  \"fields\": [\n    {\n      \"column\": \"Company\",\n      \"properties\": {\n        \"dtype\": \"string\",\n        \"num_unique_values\": 4,\n        \"samples\": [\n          6,\n          \"329\",\n          \"1148\"\n        ],\n        \"semantic_type\": \"\",\n        \"description\": \"\"\n      }\n    },\n    {\n      \"column\": \"Item\",\n      \"properties\": {\n        \"dtype\": \"string\",\n        \"num_unique_values\": 4,\n        \"samples\": [\n          1072,\n          \"11\",\n          \"1148\"\n        ],\n        \"semantic_type\": \"\",\n        \"description\": \"\"\n      }\n    },\n    {\n      \"column\": \"Calories\",\n      \"properties\": {\n        \"dtype\": \"string\",\n        \"num_unique_values\": 4,\n        \"samples\": [\n          105,\n          \"83\",\n          \"1147\"\n        ],\n        \"semantic_type\": \"\",\n        \"description\": \"\"\n      }\n    },\n    {\n      \"column\": \"Calories from\\nFat\",\n      \"properties\": {\n        \"dtype\": \"string\",\n        \"num_unique_values\": 4,\n        \"samples\": [\n          64,\n          \"175\",\n          \"642\"\n        ],\n        \"semantic_type\": \"\",\n        \"description\": \"\"\n      }\n    },\n    {\n      \"column\": \"Total Fat\\n(g)\",\n      \"properties\": {\n        \"dtype\": \"string\",\n        \"num_unique_values\": 4,\n        \"samples\": [\n          73,\n          \"357\",\n          \"1091\"\n        ],\n        \"semantic_type\": \"\",\n        \"description\": \"\"\n      }\n    },\n    {\n      \"column\": \"Saturated Fat\\n(g)\",\n      \"properties\": {\n        \"dtype\": \"string\",\n        \"num_unique_values\": 4,\n        \"samples\": [\n          35,\n          \"383\",\n          \"1091\"\n        ],\n        \"semantic_type\": \"\",\n        \"description\": \"\"\n      }\n    },\n    {\n      \"column\": \"Trans Fat\\n(g)\",\n      \"properties\": {\n        \"dtype\": \"string\",\n        \"num_unique_values\": 4,\n        \"samples\": [\n          11,\n          \"954\",\n          \"1091\"\n        ],\n        \"semantic_type\": \"\",\n        \"description\": \"\"\n      }\n    },\n    {\n      \"column\": \"Cholesterol\\n(mg)\",\n      \"properties\": {\n        \"dtype\": \"string\",\n        \"num_unique_values\": 4,\n        \"samples\": [\n          65,\n          \"378\",\n          \"1147\"\n        ],\n        \"semantic_type\": \"\",\n        \"description\": \"\"\n      }\n    },\n    {\n      \"column\": \"Sodium \\n(mg)\",\n      \"properties\": {\n        \"dtype\": \"string\",\n        \"num_unique_values\": 4,\n        \"samples\": [\n          214,\n          \"54\",\n          \"1147\"\n        ],\n        \"semantic_type\": \"\",\n        \"description\": \"\"\n      }\n    },\n    {\n      \"column\": \"Carbs\\n(g)\",\n      \"properties\": {\n        \"dtype\": \"string\",\n        \"num_unique_values\": 4,\n        \"samples\": [\n          131,\n          \"75\",\n          \"1091\"\n        ],\n        \"semantic_type\": \"\",\n        \"description\": \"\"\n      }\n    },\n    {\n      \"column\": \"Fiber\\n(g)\",\n      \"properties\": {\n        \"dtype\": \"string\",\n        \"num_unique_values\": 4,\n        \"samples\": [\n          17,\n          \"551\",\n          \"1091\"\n        ],\n        \"semantic_type\": \"\",\n        \"description\": \"\"\n      }\n    },\n    {\n      \"column\": \"Sugars\\n(g)\",\n      \"properties\": {\n        \"dtype\": \"string\",\n        \"num_unique_values\": 4,\n        \"samples\": [\n          122,\n          \"190\",\n          \"1147\"\n        ],\n        \"semantic_type\": \"\",\n        \"description\": \"\"\n      }\n    },\n    {\n      \"column\": \"Protein\\n(g)\",\n      \"properties\": {\n        \"dtype\": \"string\",\n        \"num_unique_values\": 4,\n        \"samples\": [\n          56,\n          \"314\",\n          \"1091\"\n        ],\n        \"semantic_type\": \"\",\n        \"description\": \"\"\n      }\n    },\n    {\n      \"column\": \"Weight Watchers\\nPnts\",\n      \"properties\": {\n        \"dtype\": \"string\",\n        \"num_unique_values\": 4,\n        \"samples\": [\n          524,\n          \"67\",\n          \"887\"\n        ],\n        \"semantic_type\": \"\",\n        \"description\": \"\"\n      }\n    }\n  ]\n}"
            }
          },
          "metadata": {},
          "execution_count": 26
        }
      ]
    },
    {
      "cell_type": "code",
      "source": [
        "print(df3.isna()) #se corrobora que SI existen valores nulos en el df3"
      ],
      "metadata": {
        "colab": {
          "base_uri": "https://localhost:8080/"
        },
        "id": "gkXABd3ImCfX",
        "outputId": "157cd205-0a08-4968-c6d9-607ff9ad427c"
      },
      "execution_count": 24,
      "outputs": [
        {
          "output_type": "stream",
          "name": "stdout",
          "text": [
            "      Company   Item  Calories  Calories from\\nFat  Total Fat\\n(g)  \\\n",
            "0       False  False     False               False           False   \n",
            "1       False  False     False               False           False   \n",
            "2       False  False     False               False           False   \n",
            "3       False  False     False               False           False   \n",
            "4       False  False     False               False           False   \n",
            "...       ...    ...       ...                 ...             ...   \n",
            "1143    False  False     False                True           False   \n",
            "1144    False  False     False                True           False   \n",
            "1145    False  False     False                True           False   \n",
            "1146    False  False     False                True           False   \n",
            "1147    False  False     False                True           False   \n",
            "\n",
            "      Saturated Fat\\n(g)  Trans Fat\\n(g)  Cholesterol\\n(mg)  Sodium \\n(mg)  \\\n",
            "0                  False           False              False          False   \n",
            "1                  False           False              False          False   \n",
            "2                  False           False              False          False   \n",
            "3                  False           False              False          False   \n",
            "4                  False           False              False          False   \n",
            "...                  ...             ...                ...            ...   \n",
            "1143               False           False              False          False   \n",
            "1144               False           False              False          False   \n",
            "1145               False           False              False          False   \n",
            "1146               False           False              False          False   \n",
            "1147               False           False              False          False   \n",
            "\n",
            "      Carbs\\n(g)  Fiber\\n(g)  Sugars\\n(g)  Protein\\n(g)  Weight Watchers\\nPnts  \n",
            "0          False       False        False         False                  False  \n",
            "1          False       False        False         False                  False  \n",
            "2          False       False        False         False                  False  \n",
            "3          False       False        False         False                  False  \n",
            "4          False       False        False         False                  False  \n",
            "...          ...         ...          ...           ...                    ...  \n",
            "1143       False       False        False         False                   True  \n",
            "1144       False       False        False         False                   True  \n",
            "1145       False       False        False         False                   True  \n",
            "1146       False       False        False         False                   True  \n",
            "1147       False       False        False         False                   True  \n",
            "\n",
            "[1148 rows x 14 columns]\n"
          ]
        }
      ]
    }
  ]
}